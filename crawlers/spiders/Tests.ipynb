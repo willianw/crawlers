{
 "cells": [
  {
   "cell_type": "code",
   "execution_count": 2,
   "metadata": {},
   "outputs": [],
   "source": [
    "# -*- coding: utf-8 -*-\n",
    "import scrapy, json, pdb\n",
    "from scrapy.exporters import CsvItemExporter\n",
    "from scrapy import signals\n",
    "\n",
    "field_list=['name', 'idh']"
   ]
  },
  {
   "cell_type": "code",
   "execution_count": null,
   "metadata": {},
   "outputs": [],
   "source": [
    "class IdhSpiderItem(scrapy.Item):\n",
    "\tfields = {f:scrapy.Field() for f in field_list}"
   ]
  },
  {
   "cell_type": "code",
   "execution_count": 5,
   "metadata": {},
   "outputs": [],
   "source": [
    "class IdhSpider(scrapy.Spider):\n",
    "\tname = 'idh'\n",
    "\tallowed_domains = []\n",
    "\tstart_urls = ['http://hdr.undp.org/sites/all/themes/hdr_theme/js/bars.json']\n",
    "\n",
    "\tcustom_settings = {\n",
    "\t\t'FEED_FORMAT': 'csv'\n",
    "\t}\n",
    "\n",
    "\tdef parse(self, response):\n",
    "        items = []\n",
    "\t\t_list = [x for x in json.loads(response.body) if x['year'] == \"2015\"]\n",
    "        pdb.set_trace()\n",
    "\t\tfor point in _list:\n",
    "\t\t\titem =  IdhSpiderItem(name=country['country'], idh=country['value'])\n",
    "\t\t\tyield item"
   ]
  },
  {
   "cell_type": "code",
   "execution_count": null,
   "metadata": {},
   "outputs": [],
   "source": [
    "def attr(point):\n",
    "    i = x['indicator']\n",
    "    if i == \"Human Development Index (HDI)\":\n",
    "        return 'idh'\n",
    "    else:\n",
    "        return ''"
   ]
  },
  {
   "cell_type": "code",
   "execution_count": 7,
   "metadata": {},
   "outputs": [
    {
     "data": {
      "text/plain": [
       "'a5b'"
      ]
     },
     "execution_count": 7,
     "metadata": {},
     "output_type": "execute_result"
    }
   ],
   "source": [
    "\"a%sb\" % 5"
   ]
  }
 ],
 "metadata": {
  "kernelspec": {
   "display_name": "Python 2",
   "language": "python",
   "name": "python2"
  },
  "language_info": {
   "codemirror_mode": {
    "name": "ipython",
    "version": 2
   },
   "file_extension": ".py",
   "mimetype": "text/x-python",
   "name": "python",
   "nbconvert_exporter": "python",
   "pygments_lexer": "ipython2",
   "version": "2.7.12"
  }
 },
 "nbformat": 4,
 "nbformat_minor": 2
}
